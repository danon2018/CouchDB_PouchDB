{
 "cells": [
  {
   "cell_type": "markdown",
   "id": "f7df3ecc",
   "metadata": {},
   "source": [
    "# Домашняя работа №2. CouchDB+PouchDB"
   ]
  },
  {
   "cell_type": "markdown",
   "id": "2ecb7a11",
   "metadata": {},
   "source": [
    "1) Я установил Apache CouchDB:<br>\n",
    "<img src = \"1.png\" width = \"70%\" alt = \"скриншот\" align = center />"
   ]
  },
  {
   "cell_type": "markdown",
   "id": "d1c70c83",
   "metadata": {},
   "source": [
    "2) Создаем БД testdb в CouchDB:\n",
    "<img src = \"2.png\" width = \"70%\" alt = \"скриншот\" align = center />"
   ]
  },
  {
   "cell_type": "markdown",
   "id": "b5cab860",
   "metadata": {},
   "source": [
    "3) Добавим в testdb один документ, в котором в поле **name** хранится мое ФИО:\n",
    "<img src = \"3.png\" width = \"70%\" alt = \"скриншот\" align = center />"
   ]
  },
  {
   "cell_type": "markdown",
   "id": "77194127",
   "metadata": {},
   "source": [
    "4) Пропишем соединение с портом для СУБД в командной строке:\n",
    "<img src = \"6.png\" width = \"70%\" alt = \"скриншот\" align = center />"
   ]
  },
  {
   "cell_type": "markdown",
   "id": "06307804",
   "metadata": {},
   "source": [
    "5) Пропишем в коде HTML-страницы путь к нашей Базе Данных, предварительно настроив CORS в Apache CouchDB. Нажмем кнопку sync и увидим на экране ФИО:\n",
    "<img src = \"4.png\" width = \"70%\" alt = \"скриншот\" align = center />"
   ]
  },
  {
   "cell_type": "markdown",
   "id": "086315ca",
   "metadata": {},
   "source": [
    "6) Остановим Apache CouchDB, перезагрузим страницу и убедимся, что ФИО осталась:\n",
    "<img src = \"5.png\" width = \"70%\" alt = \"скриншот\" align = center />"
   ]
  },
  {
   "cell_type": "markdown",
   "id": "9adbde69",
   "metadata": {},
   "source": [
    "7) Файл с кодом страницы прикладываю на гите"
   ]
  },
  {
   "cell_type": "code",
   "execution_count": null,
   "id": "6d644f45",
   "metadata": {},
   "outputs": [],
   "source": []
  }
 ],
 "metadata": {
  "kernelspec": {
   "display_name": "Python 3 (ipykernel)",
   "language": "python",
   "name": "python3"
  },
  "language_info": {
   "codemirror_mode": {
    "name": "ipython",
    "version": 3
   },
   "file_extension": ".py",
   "mimetype": "text/x-python",
   "name": "python",
   "nbconvert_exporter": "python",
   "pygments_lexer": "ipython3",
   "version": "3.9.7"
  }
 },
 "nbformat": 4,
 "nbformat_minor": 5
}
